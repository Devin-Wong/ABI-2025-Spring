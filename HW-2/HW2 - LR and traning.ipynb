{
 "cells": [
  {
   "cell_type": "code",
   "execution_count": 1,
   "metadata": {},
   "outputs": [],
   "source": [
    "import numpy as np\n",
    "import sklearn\n",
    "import matplotlib.pyplot as plt\n",
    "\n",
    "from sklearn.linear_model import LinearRegression\n",
    "from sklearn.preprocessing import PolynomialFeatures\n",
    "from sklearn.metrics import mean_squared_error"
   ]
  },
  {
   "cell_type": "code",
   "execution_count": 4,
   "metadata": {},
   "outputs": [
    {
     "data": {
      "image/png": "[encoded data removed]",
      "text/plain": [
       "<Figure size 640x480 with 1 Axes>"
      ]
     },
     "metadata": {},
     "output_type": "display_data"
    }
   ],
   "source": [
    "np.random.seed(42)\n",
    "m = 100\n",
    "X = 6 * np.random.rand(m, 1) - 3\n",
    "y = 0.5 * X**2 + X + 2 + np.random.randn(m, 1)\n",
    "\n",
    "plt.plot(X,y, \".\")\n",
    "plt.show()"
   ]
  },
  {
   "cell_type": "markdown",
   "metadata": {},
   "source": [
    "**Task-1:** Bias and variance\n",
    "\n",
    "1. (1 pt)Randomly split the data into training (80%) and testing(20%) sets.\n",
    "2. (3 pts)Randomly select 80% data from the training set to train a model, then calculate test MSE. Repeat it 100 times. \n",
    "3. (3 pts)Perform (2) for 1-degree to 10-degree polynomial regression models.\n",
    "4. (2 pts) Plot test MSEs vs models\n"
   ]
  },
  {
   "cell_type": "code",
   "execution_count": null,
   "metadata": {},
   "outputs": [],
   "source": []
  },
  {
   "cell_type": "markdown",
   "metadata": {},
   "source": [
    "**Task-2:** cross-validation\n",
    "- (4 pts) Use 5-fold cross-validation to select best model from polynomial regression models (1-degree to 10-degree). Please plot training mse and validation mse."
   ]
  },
  {
   "cell_type": "code",
   "execution_count": null,
   "metadata": {},
   "outputs": [],
   "source": []
  },
  {
   "cell_type": "markdown",
   "metadata": {},
   "source": [
    "**Task-3:** LASSO\n",
    "1. Randomly split the data into training (80%) and testing(20%) sets.\n",
    "2. (2 pts) Fit LASSO regression for 10th-degress polynomial model tuning parameter $\\alpha=0.3$. Then, calculate the testing RMSE. Can the LASSO model help select variables?\n",
    "3. (2 pts) Use grid search to choose the best $\\alpha$ value (You may need multiply grid searches). Use the LASSO model the best $alpha$ value to calculate the testing RMSE. "
   ]
  },
  {
   "cell_type": "code",
   "execution_count": null,
   "metadata": {},
   "outputs": [],
   "source": [
    "\n"
   ]
  },
  {
   "cell_type": "markdown",
   "metadata": {},
   "source": [
    "**Task-4: Elastic Net with Grid Search**\n",
    "\n",
    "- Randomly split the data into training (80%) and testing(20%) sets.\n",
    "- (3 pts) Use grid search to choose the best settings for `alpha` and `l1_ratio` value (You may need multiply grid searches). Use the elastic net model with the best settings to calculate the testing RMSE."
   ]
  },
  {
   "cell_type": "code",
   "execution_count": null,
   "metadata": {},
   "outputs": [],
   "source": []
  }
 ],
 "metadata": {
  "kernelspec": {
   "display_name": "Python 3",
   "language": "python",
   "name": "python3"
  },
  "language_info": {
   "codemirror_mode": {
    "name": "ipython",
    "version": 3
   },
   "file_extension": ".py",
   "mimetype": "text/x-python",
   "name": "python",
   "nbconvert_exporter": "python",
   "pygments_lexer": "ipython3",
   "version": "3.12.4"
  }
 },
 "nbformat": 4,
 "nbformat_minor": 2
}
